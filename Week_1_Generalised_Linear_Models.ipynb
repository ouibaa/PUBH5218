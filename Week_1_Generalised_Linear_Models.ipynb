{
  "nbformat": 4,
  "nbformat_minor": 0,
  "metadata": {
    "colab": {
      "name": "Week_1_Generalised_Linear_Models.ipynb",
      "provenance": [],
      "collapsed_sections": [],
      "authorship_tag": "ABX9TyNw3k/HFDLwXQ+ZHbV/jpsz",
      "include_colab_link": true
    },
    "kernelspec": {
      "name": "ir",
      "display_name": "R"
    }
  },
  "cells": [
    {
      "cell_type": "markdown",
      "metadata": {
        "id": "view-in-github",
        "colab_type": "text"
      },
      "source": [
        "<a href=\"https://colab.research.google.com/github/ouibaa/PUBH5218/blob/main/Week_1_Generalised_Linear_Models.ipynb\" target=\"_parent\"><img src=\"https://colab.research.google.com/assets/colab-badge.svg\" alt=\"Open In Colab\"/></a>"
      ]
    },
    {
      "cell_type": "markdown",
      "metadata": {
        "id": "qE7_FcAyHE8W"
      },
      "source": [
        "#Exercises (Week 1)"
      ]
    },
    {
      "cell_type": "markdown",
      "metadata": {
        "id": "MhG2GkhyHJlc"
      },
      "source": [
        "## Question 1"
      ]
    },
    {
      "cell_type": "code",
      "metadata": {
        "id": "sCuIDeyyFsMJ"
      },
      "source": [
        "# NAME: WEBER LIU\n",
        "# DATE: 09-03-2021\n",
        "# USE: EXERCISE 1"
      ],
      "execution_count": 3,
      "outputs": []
    },
    {
      "cell_type": "code",
      "metadata": {
        "id": "C93u3-FgHcNW"
      },
      "source": [
        "# Read data\n",
        "data = read.csv(\"https://raw.githubusercontent.com/ouibaa/PUBH5218/main/datasets/bmd_drug.csv\")"
      ],
      "execution_count": 6,
      "outputs": []
    },
    {
      "cell_type": "code",
      "metadata": {
        "colab": {
          "base_uri": "https://localhost:8080/"
        },
        "id": "ZUHqy3ryHX32",
        "outputId": "e2d0c989-f126-4213-da47-a31d1cbd5340"
      },
      "source": [
        "# import libraries\n",
        "install.packages(\"skimr\")\n",
        "library(skimr)"
      ],
      "execution_count": 5,
      "outputs": [
        {
          "output_type": "stream",
          "text": [
            "Installing package into ‘/usr/local/lib/R/site-library’\n",
            "(as ‘lib’ is unspecified)\n",
            "\n"
          ],
          "name": "stderr"
        }
      ]
    },
    {
      "cell_type": "code",
      "metadata": {
        "colab": {
          "base_uri": "https://localhost:8080/"
        },
        "id": "M5imYdZJHi74",
        "outputId": "9c5d58da-928f-40f1-e5e5-c6d7e9d9becd"
      },
      "source": [
        "# View dataset\n",
        "skim(data)"
      ],
      "execution_count": 7,
      "outputs": [
        {
          "output_type": "stream",
          "text": [
            "── Data Summary ────────────────────────\n",
            "                           Values\n",
            "Name                       data  \n",
            "Number of rows             1077  \n",
            "Number of columns          11    \n",
            "_______________________          \n",
            "Column type frequency:           \n",
            "  character                3     \n",
            "  numeric                  8     \n",
            "________________________         \n",
            "Group variables            None  \n",
            "\n",
            "── Variable type: character ────────────────────────────────────────────────────\n",
            "  skim_variable n_missing complete_rate   min   max empty n_unique whitespace\n",
            "1 sex                   0             1     1     1     0        2          0\n",
            "2 fracture              0             1     8    11     0        2          0\n",
            "3 medication            0             1    13    15     0        3          0\n",
            "\n",
            "── Variable type: numeric ──────────────────────────────────────────────────────\n",
            "  skim_variable n_missing complete_rate     mean       sd      p0      p25\n",
            "1 id                    0             1 9712.    8755.      3     2119    \n",
            "2 pat_inde              0             1 4176.    3757.      2      900    \n",
            "3 age                   0             1   60.8     10.7    36       53    \n",
            "4 weight_kg             0             1   67.9     11.5    36       60    \n",
            "5 height_cm             0             1  161.       8.19  140      155    \n",
            "6 bmdtot_hip            0             1    0.851    0.145   0.390    0.760\n",
            "7 bmdtot_spine          0             1    0.899    0.159   0.37     0.795\n",
            "8 waiting_time          0             1   19.9     14.6     3       10    \n",
            "       p50       p75     p100 hist \n",
            "1 6997     17142     24230    ▇▇▁▁▅\n",
            "2 3022      7353     10406    ▇▇▁▁▅\n",
            "3   60        68        89    ▂▇▇▅▂\n",
            "4   68        75       115    ▁▇▇▂▁\n",
            "5  160.      166.      186    ▁▇▇▃▁\n",
            "6    0.852     0.940     1.36 ▁▅▇▃▁\n",
            "7    0.892     1         1.66 ▁▇▇▁▁\n",
            "8   15        25       107    ▇▂▁▁▁\n"
          ],
          "name": "stdout"
        }
      ]
    },
    {
      "cell_type": "markdown",
      "metadata": {
        "id": "CY_I33Z9Jc1_"
      },
      "source": [
        "## Question 2"
      ]
    },
    {
      "cell_type": "code",
      "metadata": {
        "id": "2hJgyooSHpf7"
      },
      "source": [
        "# calcualte BMI variable\n",
        "data$bmi = data$weight_kg/ ((data$height_cm / 100) ^ 2)"
      ],
      "execution_count": 8,
      "outputs": []
    },
    {
      "cell_type": "code",
      "metadata": {
        "colab": {
          "base_uri": "https://localhost:8080/"
        },
        "id": "4Bs545oQH0uV",
        "outputId": "7f9f947f-6508-4aa1-f6ba-e059ade2e072"
      },
      "source": [
        "skim(data)"
      ],
      "execution_count": 9,
      "outputs": [
        {
          "output_type": "stream",
          "text": [
            "── Data Summary ────────────────────────\n",
            "                           Values\n",
            "Name                       data  \n",
            "Number of rows             1077  \n",
            "Number of columns          12    \n",
            "_______________________          \n",
            "Column type frequency:           \n",
            "  character                3     \n",
            "  numeric                  9     \n",
            "________________________         \n",
            "Group variables            None  \n",
            "\n",
            "── Variable type: character ────────────────────────────────────────────────────\n",
            "  skim_variable n_missing complete_rate   min   max empty n_unique whitespace\n",
            "1 sex                   0             1     1     1     0        2          0\n",
            "2 fracture              0             1     8    11     0        2          0\n",
            "3 medication            0             1    13    15     0        3          0\n",
            "\n",
            "── Variable type: numeric ──────────────────────────────────────────────────────\n",
            "  skim_variable n_missing complete_rate     mean       sd      p0      p25\n",
            "1 id                    0             1 9712.    8755.      3     2119    \n",
            "2 pat_inde              0             1 4176.    3757.      2      900    \n",
            "3 age                   0             1   60.8     10.7    36       53    \n",
            "4 weight_kg             0             1   67.9     11.5    36       60    \n",
            "5 height_cm             0             1  161.       8.19  140      155    \n",
            "6 bmdtot_hip            0             1    0.851    0.145   0.390    0.760\n",
            "7 bmdtot_spine          0             1    0.899    0.159   0.37     0.795\n",
            "8 waiting_time          0             1   19.9     14.6     3       10    \n",
            "9 bmi                   0             1   26.2      4.13   15.4     23.3  \n",
            "       p50       p75     p100 hist \n",
            "1 6997     17142     24230    ▇▇▁▁▅\n",
            "2 3022      7353     10406    ▇▇▁▁▅\n",
            "3   60        68        89    ▂▇▇▅▂\n",
            "4   68        75       115    ▁▇▇▂▁\n",
            "5  160.      166.      186    ▁▇▇▃▁\n",
            "6    0.852     0.940     1.36 ▁▅▇▃▁\n",
            "7    0.892     1         1.66 ▁▇▇▁▁\n",
            "8   15        25       107    ▇▂▁▁▁\n",
            "9   25.8      28.6      45.2  ▂▇▅▁▁\n"
          ],
          "name": "stdout"
        }
      ]
    },
    {
      "cell_type": "markdown",
      "metadata": {
        "id": "9OPVtHfCJfA8"
      },
      "source": [
        "## Question 3"
      ]
    },
    {
      "cell_type": "code",
      "metadata": {
        "id": "PyETFeOlIDWD"
      },
      "source": [
        "help(t.test)"
      ],
      "execution_count": 10,
      "outputs": []
    },
    {
      "cell_type": "code",
      "metadata": {
        "colab": {
          "base_uri": "https://localhost:8080/",
          "height": 204
        },
        "id": "XpaNjnSvH4Gr",
        "outputId": "62d27e16-2254-4d60-d66b-154daea494e0"
      },
      "source": [
        "# Comparing hip BMI for men vs. women using unpaired t-test\n",
        "t.test(bmdtot_hip ~ sex, alternative = \"two.sided\", var.equal = TRUE, data = data)"
      ],
      "execution_count": 15,
      "outputs": [
        {
          "output_type": "display_data",
          "data": {
            "text/plain": [
              "\n",
              "\tTwo Sample t-test\n",
              "\n",
              "data:  bmdtot_hip by sex\n",
              "t = -7.8996, df = 1075, p-value = 6.881e-15\n",
              "alternative hypothesis: true difference in means is not equal to 0\n",
              "95 percent confidence interval:\n",
              " -0.08480897 -0.05106060\n",
              "sample estimates:\n",
              "mean in group F mean in group M \n",
              "      0.8178973       0.8858321 \n"
            ]
          },
          "metadata": {
            "tags": []
          }
        }
      ]
    },
    {
      "cell_type": "markdown",
      "metadata": {
        "id": "fSMXUPMaJhZP"
      },
      "source": [
        "## Question 4"
      ]
    },
    {
      "cell_type": "code",
      "metadata": {
        "colab": {
          "base_uri": "https://localhost:8080/",
          "height": 391
        },
        "id": "61ozWJKLInmB",
        "outputId": "50ef144e-d9ef-4da9-f0df-87b7fbd66554"
      },
      "source": [
        "# Running a simple linear regression\n",
        "hipbmd = glm(bmdtot_hip ~ sex, data = data)\n",
        "summary(hipbmd)"
      ],
      "execution_count": 18,
      "outputs": [
        {
          "output_type": "display_data",
          "data": {
            "text/plain": [
              "\n",
              "Call:\n",
              "glm(formula = bmdtot_hip ~ sex, data = data)\n",
              "\n",
              "Deviance Residuals: \n",
              "     Min        1Q    Median        3Q       Max  \n",
              "-0.49613  -0.08650   0.00167   0.08960   0.47657  \n",
              "\n",
              "Coefficients:\n",
              "            Estimate Std. Error t value Pr(>|t|)    \n",
              "(Intercept) 0.817897   0.005958   137.3  < 2e-16 ***\n",
              "sexM        0.067935   0.008600     7.9 6.88e-15 ***\n",
              "---\n",
              "Signif. codes:  0 ‘***’ 0.001 ‘**’ 0.01 ‘*’ 0.05 ‘.’ 0.1 ‘ ’ 1\n",
              "\n",
              "(Dispersion parameter for gaussian family taken to be 0.0198808)\n",
              "\n",
              "    Null deviance: 22.613  on 1076  degrees of freedom\n",
              "Residual deviance: 21.372  on 1075  degrees of freedom\n",
              "AIC: -1159.3\n",
              "\n",
              "Number of Fisher Scoring iterations: 2\n"
            ]
          },
          "metadata": {
            "tags": []
          }
        }
      ]
    },
    {
      "cell_type": "markdown",
      "metadata": {
        "id": "CV_segarJYz9"
      },
      "source": [
        "## Question 5"
      ]
    },
    {
      "cell_type": "code",
      "metadata": {
        "colab": {
          "base_uri": "https://localhost:8080/"
        },
        "id": "XqYxUQNvJsE2",
        "outputId": "d5d29cb4-6c9a-4846-8f37-c017aafca4dc"
      },
      "source": [
        "hipbmd.bmi = glm(bmdtot_hip ~ sex + bmi, data = data)\n",
        "summ(hipbmd.bmi)"
      ],
      "execution_count": null,
      "outputs": [
        {
          "output_type": "stream",
          "text": [
            "Installing package into ‘/usr/local/lib/R/site-library’\n",
            "(as ‘lib’ is unspecified)\n",
            "\n",
            "also installing the dependencies ‘matrixStats’, ‘RcppArmadillo’, ‘numDeriv’, ‘SparseM’, ‘MatrixModels’, ‘conquer’, ‘sp’, ‘data.table’, ‘openxlsx’, ‘minqa’, ‘nloptr’, ‘statmod’, ‘RcppEigen’, ‘carData’, ‘abind’, ‘pbkrtest’, ‘quantreg’, ‘maptools’, ‘rio’, ‘lme4’\n",
            "\n",
            "\n",
            "Warning message in install.packages(\"car\"):\n",
            "“installation of package ‘matrixStats’ had non-zero exit status”\n",
            "Warning message in install.packages(\"car\"):\n",
            "“installation of package ‘RcppArmadillo’ had non-zero exit status”\n",
            "Warning message in install.packages(\"car\"):\n",
            "“installation of package ‘numDeriv’ had non-zero exit status”\n"
          ],
          "name": "stderr"
        }
      ]
    }
  ]
}